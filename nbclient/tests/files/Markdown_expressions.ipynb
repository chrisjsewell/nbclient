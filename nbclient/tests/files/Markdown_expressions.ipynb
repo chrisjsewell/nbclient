{
 "cells": [
  {
   "cell_type": "code",
   "execution_count": 1,
   "metadata": {},
   "outputs": [],
   "source": [
    "a = 1\n",
    "b = 'c'"
   ]
  },
  {
   "cell_type": "markdown",
   "metadata": {},
   "attachments": {
    "md-expr-0": {"text/plain": "1"},
    "md-expr-1": {"text/plain": "'c'"}
   },
   "source": [
    "# Variables\n",
    "\n",
    "{{ a }} {{ b }}"
    ]
  }
 ],
 "metadata": {},
 "nbformat": 4,
 "nbformat_minor": 0
}
