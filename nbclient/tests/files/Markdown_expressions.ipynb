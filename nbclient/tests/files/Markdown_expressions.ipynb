{
 "cells": [
  {
   "cell_type": "code",
   "execution_count": 1,
   "metadata": {},
   "outputs": [],
   "source": [
    "a = 1\n",
    "b = 'c'"
   ]
  },
  {
   "cell_type": "markdown",
   "metadata": {},
   "attachments": {
    "md-expr-0": {"text/plain": "1"},
    "md-expr-1": {"text/plain": "'c'"},
    "md-expr-2": {"traceback": "\u001b[0;31mNameError\u001b[0m\u001b[0;31m:\u001b[0m name 'c' is not defined\n"}
   },
   "source": [
    "# Variables\n",
    "\n",
    "{{ a }} {{ b }} {{ c }}"
    ]
  }
 ],
 "metadata": {},
 "nbformat": 4,
 "nbformat_minor": 0
}
